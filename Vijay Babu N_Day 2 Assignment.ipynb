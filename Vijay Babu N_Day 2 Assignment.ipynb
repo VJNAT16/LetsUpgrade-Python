{
 "cells": [
  {
   "cell_type": "markdown",
   "metadata": {},
   "source": [
    "## LetsUpgrade Assignments"
   ]
  },
  {
   "cell_type": "markdown",
   "metadata": {},
   "source": [
    "# DAY 2 ASSIGNMENT 1"
   ]
  },
  {
   "cell_type": "code",
   "execution_count": 15,
   "metadata": {},
   "outputs": [
    {
     "name": "stdout",
     "output_type": "stream",
     "text": [
      "Hello LetsUpgrade!!! \n",
      "This is Vijay Natarajan \n",
      "Here is my Assigment 1\n"
     ]
    }
   ],
   "source": [
    "print(\"Hello LetsUpgrade!!!\",\"\\nThis is Vijay Natarajan\",\"\\nHere is my Assigment 1\")"
   ]
  },
  {
   "cell_type": "markdown",
   "metadata": {},
   "source": [
    "# List and its Functions Types"
   ]
  },
  {
   "cell_type": "code",
   "execution_count": 74,
   "metadata": {},
   "outputs": [
    {
     "name": "stdout",
     "output_type": "stream",
     "text": [
      "['Tomato', 'Onion', 'Carrot', 'Snake Beans', 'Cauliflower']\n",
      "5\n",
      "['Tomato', 'Onion', 'Carrot', 'Snake Beans', 'Cauliflower', 'Round Gourd']\n",
      "['Tomato', 'Onion', 'Carrot', 'Snake Beans', 'Cauliflower', 'Round Gourd', 'Radish', 'Garlic', 'Mushroom', 'Green Peas', 'Fenu Greek']\n",
      "[['Horseraddish', 'Cluster Beans'], 'Tomato', 'Onion', 'Carrot', 'Snake Beans', 'Cauliflower', 'Round Gourd', 'Radish', 'Garlic', 'Mushroom', 'Green Peas', 'Fenu Greek']\n",
      "[['Horseraddish', 'Cluster Beans'], 'Tomato', 'Onion', 'Carrot', 'Snake Beans', 'Cauliflower', 'Round Gourd', 'Radish', 'Garlic', 'Green Peas', 'Fenu Greek']\n",
      "[['Horseraddish', 'Cluster Beans'], 'Tomato', 'Onion', 'Snake Beans', 'Cauliflower', 'Round Gourd', 'Radish', 'Garlic', 'Green Peas', 'Fenu Greek']\n",
      "1\n",
      "0\n",
      "1\n",
      "0\n"
     ]
    }
   ],
   "source": [
    "#List and its Functions Types\n",
    "Vegetables_List1 = [\"Tomato\", \"Onion\", \"Carrot\", \"Snake Beans\", \"Cauliflower\"]\n",
    "print(Vegetables_List1)\n",
    "\n",
    "#len(s)\n",
    "print(len(Vegetables_List1))\n",
    "\n",
    "#append()\n",
    "Vegetables_List1.append(\"Round Gourd\")\n",
    "print(Vegetables_List1)\n",
    "\n",
    "#extend()\n",
    "Vegetables_List1.extend([\"Radish\", \"Garlic\", \"Mushroom\", \"Green Peas\", \"Fenu Greek\"])\n",
    "print(Vegetables_List1)\n",
    "\n",
    "#insert()\n",
    "Vegetables_List1.insert(0, [\"Horseraddish\", \"Cluster Beans\"])\n",
    "print(Vegetables_List1)\n",
    "\n",
    "#remove()\n",
    "Vegetables_List1.remove(\"Mushroom\")\n",
    "print(Vegetables_List1)\n",
    "\n",
    "#pop([])\n",
    "Vegetables_List1.pop(3)\n",
    "print(Vegetables_List1)\n",
    "\n",
    "#index(x[, start[, end]]\n",
    "print(Vegetables_List1.index(\"Tomato\"))\n",
    "print(Vegetables_List1.index([\"Horseraddish\", \"Cluster Beans\"]))\n",
    "\n",
    "#count(x)\n",
    "print(Vegetables_List1.count(\"Tomato\"))\n",
    "print(Vegetables_List1.count(\"\"))\n",
    "\n",
    "\n",
    "\n"
   ]
  },
  {
   "cell_type": "markdown",
   "metadata": {},
   "source": [
    "## Dictionary and Its Default Functions\n"
   ]
  },
  {
   "cell_type": "code",
   "execution_count": 145,
   "metadata": {},
   "outputs": [
    {
     "name": "stdout",
     "output_type": "stream",
     "text": [
      "{'CAR_BRAND': 'MARUTHI', 'MAKE_MODEL': 'SWIFT DEZIRE', 'MAKE_YEAR': 2010, 'SEAT_TYPE': 'HATCHBACK'}\n",
      "dict_keys(['CAR_BRAND', 'MAKE_MODEL', 'MAKE_YEAR', 'SEAT_TYPE'])\n",
      "dict_values(['MARUTHI', 'SWIFT DEZIRE', 2010, 'HATCHBACK'])\n",
      "CAR_BRAND\n",
      "MAKE_MODEL\n",
      "MAKE_YEAR\n",
      "SEAT_TYPE\n",
      "MARUTHI\n",
      "dict_items([('CAR_BRAND', 'MARUTHI'), ('MAKE_MODEL', 'SWIFT DEZIRE'), ('MAKE_YEAR', 2010), ('SEAT_TYPE', 'HATCHBACK')])\n",
      "SWIFT DEZIRE\n",
      "2010\n"
     ]
    }
   ],
   "source": [
    "#Create and print a dictionary\n",
    "CARS_MODELS = {'CAR_BRAND':'MARUTHI',\n",
    "                'MAKE_MODEL':'SWIFT DEZIRE',\n",
    "                'MAKE_YEAR':2010,\n",
    "                'SEAT_TYPE':'HATCHBACK'}\n",
    "print(CARS_MODELS)\n",
    "\n",
    "# Prints all the keys\n",
    "print (CARS_MODELS.keys())   \n",
    "\n",
    "# Prints all the values\n",
    "print (CARS_MODELS.values()) \n",
    "\n",
    "# Prints all the values\n",
    "for x in CARS_MODELS:\n",
    "    print(x)\n",
    "\n",
    "# Prints the value associated with the key\n",
    "print (CARS_MODELS.get('CAR_BRAND'))   \n",
    "\n",
    "# Prints all the elements\n",
    "print (CARS_MODELS.items()) \n",
    "\n",
    "print (CARS_MODELS['MAKE_MODEL'] )    \n",
    "\n",
    "print (CARS_MODELS['MAKE_YEAR'])            "
   ]
  },
  {
   "cell_type": "markdown",
   "metadata": {},
   "source": [
    "## Sets and Its Default Functions\n"
   ]
  },
  {
   "cell_type": "code",
   "execution_count": 171,
   "metadata": {},
   "outputs": [
    {
     "name": "stdout",
     "output_type": "stream",
     "text": [
      "{'POM', 'RAJAPALAYAM', 'LAB', 'BUG', 'GOLDEN RETRIVER', 'BEEGLE'}\n",
      "POM\n",
      "RAJAPALAYAM\n",
      "LAB\n",
      "BUG\n",
      "GOLDEN RETRIVER\n",
      "BEEGLE\n",
      "{'POM', 'CHIPPIPARAI', 'RAJAPALAYAM', 'LAB', 'BUG', 'GOLDEN RETRIVER', 'BEEGLE'}\n",
      "{'Kombai (Combai)', 'POM', 'GERMAN SHEPHEAR', 'CHIPPIPARAI', 'RAJAPALAYAM', 'LAB', 'BULLDOG', 'BUG', 'GOLDEN RETRIVER', 'BEEGLE'}\n",
      "10\n",
      "{'Kombai (Combai)', 'POM', 'GERMAN SHEPHEAR', 'CHIPPIPARAI', 'RAJAPALAYAM', 'LAB', 'BUG', 'GOLDEN RETRIVER', 'BEEGLE'}\n",
      "9\n",
      "{'Kombai (Combai)', 'POM', 'GERMAN SHEPHEAR', 'CHIPPIPARAI', 'RAJAPALAYAM', 'LAB', 'GOLDEN RETRIVER', 'BEEGLE'}\n",
      "8\n",
      "Kombai (Combai)\n",
      "{'POM', 'GERMAN SHEPHEAR', 'CHIPPIPARAI', 'RAJAPALAYAM', 'LAB', 'GOLDEN RETRIVER', 'BEEGLE'}\n"
     ]
    }
   ],
   "source": [
    "DogBreed = {'POM', 'LAB', 'BEEGLE', 'GOLDEN RETRIVER', 'RAJAPALAYAM', 'BUG'}\n",
    "print(DogBreed)\n",
    "\n",
    "#Access Items\n",
    "for Z in DogBreed:\n",
    "    print(Z)\n",
    "    \n",
    "#Add Items\n",
    "DogBreed.add(\"CHIPPIPARAI\")\n",
    "print(DogBreed)\n",
    "\n",
    "#Update Items\n",
    "DogBreed.update([\"Kombai (Combai)\", \"GERMAN SHEPHEAR\", \"BULLDOG\"])\n",
    "print(DogBreed)\n",
    "\n",
    "#len() \n",
    "print(len(DogBreed))\n",
    "\n",
    "#Remove Item remove() & discard() \n",
    "DogBreed.remove(\"BULLDOG\")\n",
    "print(DogBreed)\n",
    "\n",
    "#len() \n",
    "print(len(DogBreed))\n",
    "\n",
    "DogBreed.discard(\"BUG\")\n",
    "print(DogBreed)\n",
    "\n",
    "#len() \n",
    "print(len(DogBreed))\n",
    "\n",
    "#pop()\n",
    "Y = DogBreed.pop()\n",
    "print(Y)\n",
    "len((DogBreed))\n",
    "print(DogBreed)"
   ]
  },
  {
   "cell_type": "code",
   "execution_count": 180,
   "metadata": {},
   "outputs": [
    {
     "name": "stdout",
     "output_type": "stream",
     "text": [
      "{'POM', 'RAJAPALAYAM', 'LAB', 'BUG', 'GOLDEN RETRIVER', 'BEEGLE'}\n",
      "{'SIBERIAN HUSKY', 'ROTTWEILER', 'POODLE', 'DACHSHUND'}\n",
      "{'DACHSHUND', 'ROTTWEILER', 'POM', 'RAJAPALAYAM', 'LAB', 'SIBERIAN HUSKY', 'POODLE', 'BUG', 'GOLDEN RETRIVER', 'BEEGLE'}\n"
     ]
    }
   ],
   "source": [
    "#Join Two Sets\n",
    "DogBreed_SET1 = {'POM', 'LAB', 'BEEGLE', 'GOLDEN RETRIVER', 'RAJAPALAYAM', 'BUG'}\n",
    "DogBreed_SET2 = {\"POODLE\", \"DACHSHUND\", \"SIBERIAN HUSKY\", \"ROTTWEILER\"}\n",
    "print(DogBreed_SET1)\n",
    "print(DogBreed_SET2)\n",
    "DogBreed_FULLSET = DogBreed_SET1.union(DogBreed_SET2)\n",
    "print(DogBreed_FULLSET)"
   ]
  },
  {
   "cell_type": "code",
   "execution_count": 210,
   "metadata": {},
   "outputs": [
    {
     "name": "stdout",
     "output_type": "stream",
     "text": [
      "('B', 'E', 'C', 'A', 'F', 'D')\n",
      "{'cherry', 'banana'}\n",
      "{'MUMBAI', 'KERALA'}\n",
      "{'CHENNAI', 'BANGALORE', 'PUNE'}\n",
      "{'CHENNAI'}\n",
      "True\n",
      "True\n"
     ]
    }
   ],
   "source": [
    "#The set() Constructor \n",
    "# Using the set() constructor to make a set:\n",
    "\n",
    "A_set = (('B', 'E', 'C', 'A', 'F', 'D'))\n",
    "print(A_set)\n",
    "\n",
    "x = {\"apple\", \"banana\", \"cherry\"}\n",
    "y = {\"google\", \"microsoft\", \"apple\"}\n",
    "z = x.difference(y)\n",
    "print(z)\n",
    "\n",
    "#difference_update() \n",
    "x = {\"CHENNAI\", \"MUMBAI\", \"KERALA\"}\n",
    "y = {\"BANGALORE\", \"CHENNAI\", \"PUNE\"}\n",
    "x.difference_update(y)\n",
    "print(x)\n",
    "y.difference_update(X)\n",
    "print(y)\n",
    "\n",
    "#intersection() \n",
    "x = {\"CHENNAI\", \"MUMBAI\", \"KERALA\"}\n",
    "y = {\"BANGALORE\", \"CHENNAI\", \"PUNE\"}\n",
    "f = x.intersection(y)\n",
    "print(f)\n",
    "\n",
    "#isdisjoint() \n",
    "x = {\"MAHARASTRA\", \"MUMBAI\", \"KERALA\"}\n",
    "y = {\"BANGALORE\", \"CHENNAI\", \"PUNE\"}\n",
    "g = x.isdisjoint(y)\n",
    "print(g)\n",
    "\n",
    "#issubset() \n",
    "x = {\"MAHARASTRA\", \"MUMBAI\", \"KERALA\"}\n",
    "y = {\"BANGALORE\", \"CHENNAI\", \"PUNE\"}\n",
    "h = x.isdisjoint(y)\n",
    "print(g)\n"
   ]
  },
  {
   "cell_type": "markdown",
   "metadata": {},
   "source": [
    "## Tuples & Its Functions"
   ]
  },
  {
   "cell_type": "code",
   "execution_count": 211,
   "metadata": {},
   "outputs": [
    {
     "name": "stdout",
     "output_type": "stream",
     "text": [
      "('abcd', 786, 2.23, 'john', 70.2)\n",
      "abcd\n",
      "(786, 2.23)\n",
      "(2.23, 'john', 70.2)\n",
      "(123, 'john', 123, 'john')\n",
      "('abcd', 786, 2.23, 'john', 70.2, 123, 'john')\n",
      "70.2\n",
      "('abcd', 786, 2.23, 'john', 70.2, 'XYZ', 123)\n"
     ]
    }
   ],
   "source": [
    "# Tuples\n",
    "mytuple = ( 'abcd', 786 , 2.23, 'john', 70.2  )\n",
    "tinytuple = (123, 'john')\n",
    "xyz = ('XYZ', 123)\n",
    "\n",
    "print (mytuple)           # Prints complete tuple\n",
    "print (mytuple[0])        # Prints first element of the tuple\n",
    "print (mytuple[1:3])      # Prints elements starting from 2nd till 3rd \n",
    "print (mytuple[2:])       # Prints elements starting from 3rd element\n",
    "print (tinytuple * 2)   # Prints tuple two times\n",
    "print (mytuple + tinytuple) # Prints concatenated tuple\n",
    "print (mytuple[-1])        # Prints the last item in the tuple\n",
    "\n",
    "print (mytuple + xyz) # Prints concatenated tuple"
   ]
  },
  {
   "cell_type": "markdown",
   "metadata": {},
   "source": [
    "## Strings & Its Functions"
   ]
  },
  {
   "cell_type": "code",
   "execution_count": 251,
   "metadata": {},
   "outputs": [
    {
     "name": "stdout",
     "output_type": "stream",
     "text": [
      "Hello LetsUpgrade\n",
      "XYZ\n",
      "e\n",
      "LetsUpgrade\n",
      "Lets\n",
      "sUpgra\n",
      "17\n",
      "Hello LetsUpgrade\n",
      "hello letsupgrade\n",
      "HELLO LETSUPGRADE\n",
      "Hello itsUpgrade\n",
      "['Hello LetsUpgrade']\n",
      "True\n",
      "False\n",
      "Hey, I AM VIJAY NATARAJANI AM AN DATA SCIENTIST\n",
      "Hey, I AM VIJAY NATARAJAN Also, I AM AN DATA SCIENTIST\n"
     ]
    },
    {
     "ename": "TypeError",
     "evalue": "can only concatenate str (not \"set\") to str",
     "output_type": "error",
     "traceback": [
      "\u001b[1;31m---------------------------------------------------------------------------\u001b[0m",
      "\u001b[1;31mTypeError\u001b[0m                                 Traceback (most recent call last)",
      "\u001b[1;32m<ipython-input-251-002590f1be0d>\u001b[0m in \u001b[0;36m<module>\u001b[1;34m\u001b[0m\n\u001b[0;32m     35\u001b[0m \u001b[1;33m\u001b[0m\u001b[0m\n\u001b[0;32m     36\u001b[0m \u001b[0mAge\u001b[0m \u001b[1;33m=\u001b[0m \u001b[1;36m32\u001b[0m\u001b[1;33m\u001b[0m\u001b[1;33m\u001b[0m\u001b[0m\n\u001b[1;32m---> 37\u001b[1;33m \u001b[0mStatement\u001b[0m \u001b[1;33m=\u001b[0m \u001b[0mSentence_3\u001b[0m \u001b[1;33m+\u001b[0m \u001b[1;33m{\u001b[0m\u001b[0mAge\u001b[0m\u001b[1;33m}\u001b[0m\u001b[1;33m\u001b[0m\u001b[1;33m\u001b[0m\u001b[0m\n\u001b[0m\u001b[0;32m     38\u001b[0m \u001b[0mprint\u001b[0m\u001b[1;33m(\u001b[0m\u001b[0mStatement\u001b[0m\u001b[1;33m)\u001b[0m\u001b[1;33m\u001b[0m\u001b[1;33m\u001b[0m\u001b[0m\n\u001b[0;32m     39\u001b[0m \u001b[1;33m\u001b[0m\u001b[0m\n",
      "\u001b[1;31mTypeError\u001b[0m: can only concatenate str (not \"set\") to str"
     ]
    }
   ],
   "source": [
    "print(\"Hello LetsUpgrade\")\n",
    "\n",
    "#Assign String to a Variable\n",
    "ABC = \"XYZ\"\n",
    "print(ABC)\n",
    "\n",
    "#Strings are Arrays\n",
    "a = \"Hello LetsUpgrade\"\n",
    "print(a[1])\n",
    "print(a[6:])\n",
    "print(a[6:10])\n",
    "print(a[-8:-2])\n",
    "print(len(a))\n",
    "print(a.strip())\n",
    "print(a.lower())\n",
    "print(a.upper())\n",
    "print(a.replace(\"Le\",'i'))\n",
    "print(a.split(\",\"))\n",
    "\n",
    "txt = \"The rain in Spain stays mainly in the plain\"\n",
    "x = \"ain\" in txt\n",
    "print(x)\n",
    "x = \"ain\" not in txt\n",
    "print(x)\n",
    "\n",
    "#String Concatenation\n",
    "Sentence_1 = \"Hey, I AM VIJAY NATARAJAN\"\n",
    "Sentence_2 = \"I AM AN DATA SCIENTIST\"\n",
    "\n",
    "Sentence_3 = Sentence_1 + Sentence_2\n",
    "print(Sentence_3)\n",
    "\n",
    "Sentence_3 = Sentence_1 +\" \" +\"Also\" +\",\" + \" \" + Sentence_2\n",
    "print(Sentence_3)\n",
    "\n",
    "Age = 32\n",
    "Statement = Sentence_3 + {Age}\n",
    "print(Statement)\n",
    "\n"
   ]
  }
 ],
 "metadata": {
  "kernelspec": {
   "display_name": "Python 3",
   "language": "python",
   "name": "python3"
  },
  "language_info": {
   "codemirror_mode": {
    "name": "ipython",
    "version": 3
   },
   "file_extension": ".py",
   "mimetype": "text/x-python",
   "name": "python",
   "nbconvert_exporter": "python",
   "pygments_lexer": "ipython3",
   "version": "3.7.6"
  }
 },
 "nbformat": 4,
 "nbformat_minor": 4
}
